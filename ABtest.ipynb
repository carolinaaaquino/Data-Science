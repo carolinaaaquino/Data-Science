{
 "cells": [
  {
   "cell_type": "markdown",
   "metadata": {},
   "source": [
    "# A/B Test - Sale Store website\n",
    "\n",
    "An Sale Store desire implement a new website to improve the online sales. Before the official implementation, the store requested an A/B Test to verify if the use of the function \"Buy\" could growth the 5% desired, in the new website.\n",
    "\n",
    "With the actual website version, the function \"Buy\" is activeted in 18% of the used times.\n",
    "\n",
    "So, was defined two groups for the A/B Test: \n",
    "\n",
    "1. Control - This group tested the actual website version;\n",
    "2. Treatment - This group tested the new website version.\n",
    "\n",
    "With a confidence level of 95% - α = 0,05 - the test will verify the hypoteses:\n",
    "\n",
    "* H0 = The new and the actual versions have the same performance;\n",
    "* H1 = The new version increase 5% than the actual version.\n",
    "\n",
    "\n",
    "\n",
    "The dataset utilized could be download in <https://www.kaggle.com/datasets/zhangluyuan/ab-testing?select=ab_data.csv>"
   ]
  },
  {
   "cell_type": "code",
   "execution_count": 40,
   "metadata": {
    "execution": {
     "iopub.execute_input": "2023-05-25T10:10:28.252799Z",
     "iopub.status.busy": "2023-05-25T10:10:28.252208Z",
     "iopub.status.idle": "2023-05-25T10:10:29.740268Z",
     "shell.execute_reply": "2023-05-25T10:10:29.738974Z",
     "shell.execute_reply.started": "2023-05-25T10:10:28.252756Z"
    }
   },
   "outputs": [
    {
     "name": "stdout",
     "output_type": "stream",
     "text": [
      "Requirement already satisfied: pingouin==0.5.2 in c:\\users\\carol\\appdata\\roaming\\python\\python38\\site-packages (0.5.2)\n",
      "Requirement already satisfied: pandas-flavor>=0.2.0 in c:\\users\\carol\\appdata\\roaming\\python\\python38\\site-packages (from pingouin==0.5.2) (0.5.0)\n",
      "Requirement already satisfied: scipy>=1.7 in c:\\users\\carol\\appdata\\roaming\\python\\python38\\site-packages (from pingouin==0.5.2) (1.7.0)\n",
      "Requirement already satisfied: statsmodels>=0.13 in c:\\users\\carol\\appdata\\roaming\\python\\python38\\site-packages (from pingouin==0.5.2) (0.14.0)\n",
      "Requirement already satisfied: tabulate in c:\\users\\carol\\appdata\\roaming\\python\\python38\\site-packages (from pingouin==0.5.2) (0.9.0)\n",
      "Requirement already satisfied: seaborn>=0.11 in c:\\programdata\\anaconda3\\lib\\site-packages (from pingouin==0.5.2) (0.11.1)\n",
      "Requirement already satisfied: outdated in c:\\users\\carol\\appdata\\roaming\\python\\python38\\site-packages (from pingouin==0.5.2) (0.2.2)\n",
      "Requirement already satisfied: matplotlib>=3.0.2 in c:\\programdata\\anaconda3\\lib\\site-packages (from pingouin==0.5.2) (3.3.4)\n",
      "Requirement already satisfied: pandas>=1.0 in c:\\users\\carol\\appdata\\roaming\\python\\python38\\site-packages (from pingouin==0.5.2) (2.0.2)\n",
      "Requirement already satisfied: numpy>=1.19 in c:\\users\\carol\\appdata\\roaming\\python\\python38\\site-packages (from pingouin==0.5.2) (1.22.4)\n",
      "Requirement already satisfied: scikit-learn<1.1.0 in c:\\programdata\\anaconda3\\lib\\site-packages (from pingouin==0.5.2) (0.24.1)\n",
      "Requirement already satisfied: python-dateutil>=2.1 in c:\\users\\carol\\appdata\\roaming\\python\\python38\\site-packages (from matplotlib>=3.0.2->pingouin==0.5.2) (2.8.2)\n",
      "Requirement already satisfied: kiwisolver>=1.0.1 in c:\\programdata\\anaconda3\\lib\\site-packages (from matplotlib>=3.0.2->pingouin==0.5.2) (1.3.1)\n",
      "Requirement already satisfied: pyparsing!=2.0.4,!=2.1.2,!=2.1.6,>=2.0.3 in c:\\programdata\\anaconda3\\lib\\site-packages (from matplotlib>=3.0.2->pingouin==0.5.2) (2.4.7)\n",
      "Requirement already satisfied: cycler>=0.10 in c:\\programdata\\anaconda3\\lib\\site-packages (from matplotlib>=3.0.2->pingouin==0.5.2) (0.10.0)\n",
      "Requirement already satisfied: pillow>=6.2.0 in c:\\programdata\\anaconda3\\lib\\site-packages (from matplotlib>=3.0.2->pingouin==0.5.2) (8.2.0)\n",
      "Requirement already satisfied: six in c:\\programdata\\anaconda3\\lib\\site-packages (from cycler>=0.10->matplotlib>=3.0.2->pingouin==0.5.2) (1.15.0)\n",
      "Requirement already satisfied: tzdata>=2022.1 in c:\\programdata\\anaconda3\\lib\\site-packages (from pandas>=1.0->pingouin==0.5.2) (2023.3)\n",
      "Requirement already satisfied: pytz>=2020.1 in c:\\programdata\\anaconda3\\lib\\site-packages (from pandas>=1.0->pingouin==0.5.2) (2021.1)\n",
      "Requirement already satisfied: xarray in c:\\users\\carol\\appdata\\roaming\\python\\python38\\site-packages (from pandas-flavor>=0.2.0->pingouin==0.5.2) (2023.1.0)\n",
      "Requirement already satisfied: lazy-loader>=0.1 in c:\\users\\carol\\appdata\\roaming\\python\\python38\\site-packages (from pandas-flavor>=0.2.0->pingouin==0.5.2) (0.2)\n",
      "Requirement already satisfied: threadpoolctl>=2.0.0 in c:\\programdata\\anaconda3\\lib\\site-packages (from scikit-learn<1.1.0->pingouin==0.5.2) (2.1.0)\n",
      "Requirement already satisfied: joblib>=0.11 in c:\\programdata\\anaconda3\\lib\\site-packages (from scikit-learn<1.1.0->pingouin==0.5.2) (1.0.1)\n",
      "Requirement already satisfied: patsy>=0.5.2 in c:\\users\\carol\\appdata\\roaming\\python\\python38\\site-packages (from statsmodels>=0.13->pingouin==0.5.2) (0.5.3)\n",
      "Requirement already satisfied: packaging>=21.3 in c:\\users\\carol\\appdata\\roaming\\python\\python38\\site-packages (from statsmodels>=0.13->pingouin==0.5.2) (23.1)\n",
      "Requirement already satisfied: requests in c:\\users\\carol\\appdata\\roaming\\python\\python38\\site-packages (from outdated->pingouin==0.5.2) (2.27.1)\n",
      "Requirement already satisfied: setuptools>=44 in c:\\programdata\\anaconda3\\lib\\site-packages (from outdated->pingouin==0.5.2) (52.0.0.post20210125)\n",
      "Requirement already satisfied: littleutils in c:\\users\\carol\\appdata\\roaming\\python\\python38\\site-packages (from outdated->pingouin==0.5.2) (0.2.2)\n",
      "Requirement already satisfied: certifi>=2017.4.17 in c:\\programdata\\anaconda3\\lib\\site-packages (from requests->outdated->pingouin==0.5.2) (2020.12.5)\n",
      "Requirement already satisfied: idna<4,>=2.5 in c:\\programdata\\anaconda3\\lib\\site-packages (from requests->outdated->pingouin==0.5.2) (2.10)\n",
      "Requirement already satisfied: charset-normalizer~=2.0.0 in c:\\programdata\\anaconda3\\lib\\site-packages (from requests->outdated->pingouin==0.5.2) (2.0.12)\n",
      "Requirement already satisfied: urllib3<1.27,>=1.21.1 in c:\\programdata\\anaconda3\\lib\\site-packages (from requests->outdated->pingouin==0.5.2) (1.26.4)\n",
      "Requirement already satisfied: scipy==1.7.0 in c:\\users\\carol\\appdata\\roaming\\python\\python38\\site-packages (1.7.0)\n",
      "Requirement already satisfied: numpy<1.23.0,>=1.16.5 in c:\\users\\carol\\appdata\\roaming\\python\\python38\\site-packages (from scipy==1.7.0) (1.22.4)\n"
     ]
    }
   ],
   "source": [
    "#Libraries\n",
    "!pip install scipy==1.7.0 --user\n",
    "\n",
    "from scipy import stats\n",
    "import numpy as np\n",
    "import pandas as pd\n",
    "import scipy as sc\n",
    "import statsmodels.stats.api as sms\n",
    "import matplotlib as mpl\n",
    "import matplotlib.pyplot as plt\n",
    "import seaborn as sns\n",
    "from math import ceil\n",
    "\n",
    "\n",
    "# Plot styling\n",
    "plt.style.use('seaborn-whitegrid')\n",
    "font = {'family' : 'monospace',\n",
    "        'weight' : 'bold',\n",
    "        'size'   : 14}\n",
    "\n",
    "mpl.rc('font', **font)\n",
    "\n"
   ]
  },
  {
   "cell_type": "markdown",
   "metadata": {},
   "source": [
    "### Estimating sample size with Power analysis"
   ]
  },
  {
   "cell_type": "code",
   "execution_count": null,
   "metadata": {},
   "outputs": [],
   "source": [
    "# Calculating effect size based on our expected rates - 0.18 actual percentage, 0.23 desired percentage\n",
    "effect_size = sms.proportion_effectsize(0.18, 0.23)   \n",
    " \n",
    "# Calculating sample size needed\n",
    "required_n = sms.NormalIndPower().solve_power(\n",
    "    effect_size, \n",
    "    power=0.8, \n",
    "    alpha=0.05, \n",
    "    ratio=1\n",
    "    )                        \n",
    "\n",
    "required_n = ceil(required_n)                                               \n",
    "print(required_n)"
   ]
  },
  {
   "cell_type": "markdown",
   "metadata": {},
   "source": [
    "According with the Power analysis, the sample size will be with 1020 observations for each group involved in the test."
   ]
  },
  {
   "cell_type": "markdown",
   "metadata": {},
   "source": [
    "### Import Dataset"
   ]
  },
  {
   "cell_type": "code",
   "execution_count": 11,
   "metadata": {
    "execution": {
     "iopub.execute_input": "2023-05-25T10:16:09.353721Z",
     "iopub.status.busy": "2023-05-25T10:16:09.353279Z",
     "iopub.status.idle": "2023-05-25T10:16:10.395288Z",
     "shell.execute_reply": "2023-05-25T10:16:10.393843Z",
     "shell.execute_reply.started": "2023-05-25T10:16:09.353689Z"
    }
   },
   "outputs": [
    {
     "name": "stdout",
     "output_type": "stream",
     "text": [
      "<class 'pandas.core.frame.DataFrame'>\n",
      "RangeIndex: 294478 entries, 0 to 294477\n",
      "Data columns (total 5 columns):\n",
      " #   Column        Non-Null Count   Dtype \n",
      "---  ------        --------------   ----- \n",
      " 0   user_id       294478 non-null  int64 \n",
      " 1   timestamp     294478 non-null  object\n",
      " 2   group         294478 non-null  object\n",
      " 3   landing_page  294478 non-null  object\n",
      " 4   converted     294478 non-null  int64 \n",
      "dtypes: int64(2), object(3)\n",
      "memory usage: 11.2+ MB\n"
     ]
    }
   ],
   "source": [
    "df = pd.read_csv(r'C:\\Users\\carol\\OneDrive\\Área de Trabalho\\Estudos Data Science\\Portfolio\\AB_Test\\ab_data.csv')\n",
    "\n",
    "df.info()"
   ]
  },
  {
   "cell_type": "code",
   "execution_count": 12,
   "metadata": {},
   "outputs": [
    {
     "data": {
      "text/html": [
       "<div>\n",
       "<style scoped>\n",
       "    .dataframe tbody tr th:only-of-type {\n",
       "        vertical-align: middle;\n",
       "    }\n",
       "\n",
       "    .dataframe tbody tr th {\n",
       "        vertical-align: top;\n",
       "    }\n",
       "\n",
       "    .dataframe thead th {\n",
       "        text-align: right;\n",
       "    }\n",
       "</style>\n",
       "<table border=\"1\" class=\"dataframe\">\n",
       "  <thead>\n",
       "    <tr style=\"text-align: right;\">\n",
       "      <th></th>\n",
       "      <th>user_id</th>\n",
       "      <th>timestamp</th>\n",
       "      <th>group</th>\n",
       "      <th>landing_page</th>\n",
       "      <th>converted</th>\n",
       "    </tr>\n",
       "  </thead>\n",
       "  <tbody>\n",
       "    <tr>\n",
       "      <th>0</th>\n",
       "      <td>851104</td>\n",
       "      <td>2017-01-21 22:11:48.556739</td>\n",
       "      <td>control</td>\n",
       "      <td>old_page</td>\n",
       "      <td>0</td>\n",
       "    </tr>\n",
       "    <tr>\n",
       "      <th>1</th>\n",
       "      <td>804228</td>\n",
       "      <td>2017-01-12 08:01:45.159739</td>\n",
       "      <td>control</td>\n",
       "      <td>old_page</td>\n",
       "      <td>0</td>\n",
       "    </tr>\n",
       "    <tr>\n",
       "      <th>2</th>\n",
       "      <td>661590</td>\n",
       "      <td>2017-01-11 16:55:06.154213</td>\n",
       "      <td>treatment</td>\n",
       "      <td>new_page</td>\n",
       "      <td>0</td>\n",
       "    </tr>\n",
       "    <tr>\n",
       "      <th>3</th>\n",
       "      <td>853541</td>\n",
       "      <td>2017-01-08 18:28:03.143765</td>\n",
       "      <td>treatment</td>\n",
       "      <td>new_page</td>\n",
       "      <td>0</td>\n",
       "    </tr>\n",
       "    <tr>\n",
       "      <th>4</th>\n",
       "      <td>864975</td>\n",
       "      <td>2017-01-21 01:52:26.210827</td>\n",
       "      <td>control</td>\n",
       "      <td>old_page</td>\n",
       "      <td>1</td>\n",
       "    </tr>\n",
       "  </tbody>\n",
       "</table>\n",
       "</div>"
      ],
      "text/plain": [
       "   user_id                   timestamp      group landing_page  converted\n",
       "0   851104  2017-01-21 22:11:48.556739    control     old_page          0\n",
       "1   804228  2017-01-12 08:01:45.159739    control     old_page          0\n",
       "2   661590  2017-01-11 16:55:06.154213  treatment     new_page          0\n",
       "3   853541  2017-01-08 18:28:03.143765  treatment     new_page          0\n",
       "4   864975  2017-01-21 01:52:26.210827    control     old_page          1"
      ]
     },
     "execution_count": 12,
     "metadata": {},
     "output_type": "execute_result"
    }
   ],
   "source": [
    "df.head()"
   ]
  },
  {
   "cell_type": "markdown",
   "metadata": {},
   "source": [
    "### Data Quality Analysis"
   ]
  },
  {
   "cell_type": "code",
   "execution_count": 5,
   "metadata": {
    "execution": {
     "iopub.execute_input": "2023-05-25T10:17:21.235001Z",
     "iopub.status.busy": "2023-05-25T10:17:21.234565Z",
     "iopub.status.idle": "2023-05-25T10:17:21.284862Z",
     "shell.execute_reply": "2023-05-25T10:17:21.283560Z",
     "shell.execute_reply.started": "2023-05-25T10:17:21.234971Z"
    }
   },
   "outputs": [
    {
     "name": "stdout",
     "output_type": "stream",
     "text": [
      "3894\n"
     ]
    }
   ],
   "source": [
    "#Confirm that the utilization are unique for each user - How much users appears more than 1 time?\n",
    "session_counts = df['user_id'].value_counts(ascending=False)\n",
    "multi_users = session_counts[session_counts > 1].count()\n",
    "print(multi_users)\n"
   ]
  },
  {
   "cell_type": "code",
   "execution_count": 6,
   "metadata": {
    "execution": {
     "iopub.execute_input": "2023-05-25T10:17:25.253991Z",
     "iopub.status.busy": "2023-05-25T10:17:25.252665Z",
     "iopub.status.idle": "2023-05-25T10:17:25.315560Z",
     "shell.execute_reply": "2023-05-25T10:17:25.314052Z",
     "shell.execute_reply.started": "2023-05-25T10:17:25.253951Z"
    }
   },
   "outputs": [
    {
     "data": {
      "text/plain": [
       "286690"
      ]
     },
     "execution_count": 6,
     "metadata": {},
     "output_type": "execute_result"
    }
   ],
   "source": [
    "#The number 3894 is not significance for the dataset - drop\n",
    "users_to_drop = session_counts[session_counts > 1].index\n",
    "df = df[~df['user_id'].isin(users_to_drop)]\n",
    "df.shape[0]\n",
    "\n"
   ]
  },
  {
   "cell_type": "code",
   "execution_count": 9,
   "metadata": {},
   "outputs": [
    {
     "data": {
      "text/plain": [
       "user_id         0\n",
       "timestamp       0\n",
       "group           0\n",
       "landing_page    0\n",
       "converted       0\n",
       "dtype: int64"
      ]
     },
     "execution_count": 9,
     "metadata": {},
     "output_type": "execute_result"
    }
   ],
   "source": [
    "#Look for null values\n",
    "df.isnull().sum()"
   ]
  },
  {
   "cell_type": "markdown",
   "metadata": {},
   "source": [
    "### Separating the sample needed - 1020 for each group - 2040 observations in total"
   ]
  },
  {
   "cell_type": "code",
   "execution_count": 13,
   "metadata": {
    "execution": {
     "iopub.execute_input": "2023-05-25T10:20:08.425095Z",
     "iopub.status.busy": "2023-05-25T10:20:08.424642Z",
     "iopub.status.idle": "2023-05-25T10:20:08.707145Z",
     "shell.execute_reply": "2023-05-25T10:20:08.705649Z",
     "shell.execute_reply.started": "2023-05-25T10:20:08.425061Z"
    }
   },
   "outputs": [
    {
     "name": "stdout",
     "output_type": "stream",
     "text": [
      "<class 'pandas.core.frame.DataFrame'>\n",
      "RangeIndex: 2040 entries, 0 to 2039\n",
      "Data columns (total 5 columns):\n",
      " #   Column        Non-Null Count  Dtype \n",
      "---  ------        --------------  ----- \n",
      " 0   user_id       2040 non-null   int64 \n",
      " 1   timestamp     2040 non-null   object\n",
      " 2   group         2040 non-null   object\n",
      " 3   landing_page  2040 non-null   object\n",
      " 4   converted     2040 non-null   int64 \n",
      "dtypes: int64(2), object(3)\n",
      "memory usage: 79.8+ KB\n"
     ]
    }
   ],
   "source": [
    "control_sample = df[df['group'] == 'control'].sample(n=required_n, random_state=22)\n",
    "treatment_sample = df[df['group'] == 'treatment'].sample(n=required_n, random_state=22)\n",
    "\n",
    "ab_test = pd.concat([control_sample, treatment_sample], axis=0)\n",
    "ab_test.reset_index(drop=True, inplace=True)\n",
    "ab_test\n",
    "\n",
    "ab_test.info()"
   ]
  },
  {
   "cell_type": "code",
   "execution_count": 14,
   "metadata": {},
   "outputs": [
    {
     "data": {
      "text/plain": [
       "treatment    1020\n",
       "control      1020\n",
       "Name: group, dtype: int64"
      ]
     },
     "execution_count": 14,
     "metadata": {},
     "output_type": "execute_result"
    }
   ],
   "source": [
    "ab_test['group'].value_counts()"
   ]
  },
  {
   "cell_type": "code",
   "execution_count": 15,
   "metadata": {},
   "outputs": [
    {
     "data": {
      "text/html": [
       "<style  type=\"text/css\" >\n",
       "</style><table id=\"T_b83b5_\" ><thead>    <tr>        <th class=\"blank level0\" ></th>        <th class=\"col_heading level0 col0\" >conversion_rate</th>        <th class=\"col_heading level0 col1\" >std_deviation</th>        <th class=\"col_heading level0 col2\" >std_error</th>    </tr>    <tr>        <th class=\"index_name level0\" >group</th>        <th class=\"blank\" ></th>        <th class=\"blank\" ></th>        <th class=\"blank\" ></th>    </tr></thead><tbody>\n",
       "                <tr>\n",
       "                        <th id=\"T_b83b5_level0_row0\" class=\"row_heading level0 row0\" >control</th>\n",
       "                        <td id=\"T_b83b5_row0_col0\" class=\"data row0 col0\" >0.122</td>\n",
       "                        <td id=\"T_b83b5_row0_col1\" class=\"data row0 col1\" >0.327</td>\n",
       "                        <td id=\"T_b83b5_row0_col2\" class=\"data row0 col2\" >0.010</td>\n",
       "            </tr>\n",
       "            <tr>\n",
       "                        <th id=\"T_b83b5_level0_row1\" class=\"row_heading level0 row1\" >treatment</th>\n",
       "                        <td id=\"T_b83b5_row1_col0\" class=\"data row1 col0\" >0.115</td>\n",
       "                        <td id=\"T_b83b5_row1_col1\" class=\"data row1 col1\" >0.319</td>\n",
       "                        <td id=\"T_b83b5_row1_col2\" class=\"data row1 col2\" >0.010</td>\n",
       "            </tr>\n",
       "    </tbody></table>"
      ],
      "text/plain": [
       "<pandas.io.formats.style.Styler at 0x17c508c3eb0>"
      ]
     },
     "execution_count": 15,
     "metadata": {},
     "output_type": "execute_result"
    }
   ],
   "source": [
    "conversion_rates = ab_test.groupby('group')['converted']\n",
    "\n",
    "# Std. deviation of the proportion\n",
    "std_p = lambda x: np.std(x, ddof=0)\n",
    "\n",
    "# Std. error of the proportion (std / sqrt(n))              \n",
    "se_p = lambda x: stats.sem(x, ddof=0)            \n",
    "\n",
    "conversion_rates = conversion_rates.agg([np.mean, std_p, se_p])\n",
    "conversion_rates.columns = ['conversion_rate', 'std_deviation', 'std_error']\n",
    "\n",
    "conversion_rates.style.format('{:.3f}')"
   ]
  },
  {
   "cell_type": "code",
   "execution_count": 22,
   "metadata": {
    "execution": {
     "iopub.execute_input": "2023-05-25T10:27:41.055275Z",
     "iopub.status.busy": "2023-05-25T10:27:41.054798Z",
     "iopub.status.idle": "2023-05-25T10:27:41.525072Z",
     "shell.execute_reply": "2023-05-25T10:27:41.523442Z",
     "shell.execute_reply.started": "2023-05-25T10:27:41.055243Z"
    }
   },
   "outputs": [
    {
     "data": {
      "image/png": "[encoded data removed]",
      "text/plain": [
       "<Figure size 576x432 with 1 Axes>"
      ]
     },
     "metadata": {},
     "output_type": "display_data"
    }
   ],
   "source": [
    "plt.figure(figsize=(8,6))\n",
    "\n",
    "sns.barplot(x=ab_test['group'], y=ab_test['converted'], ci=False)\n",
    "\n",
    "plt.ylim(0, 0.17)\n",
    "plt.title('Conversion rate by group', pad=20)\n",
    "plt.xlabel('Group', labelpad=15)\n",
    "plt.ylabel('Converted (proportion)', labelpad=15);"
   ]
  },
  {
   "cell_type": "markdown",
   "metadata": {},
   "source": [
    "Apparently, the Treatment group had a small conversion rate."
   ]
  },
  {
   "cell_type": "markdown",
   "metadata": {},
   "source": [
    "### Testing the hyphoteses - T-test\n",
    "\n",
    "Since the desire is compare the mean of different groups, it was used the T-test. To this, was assumed about the samples:\n",
    "* Are independent;\n",
    "* Are approximately normally distributed;\n",
    "* They have similar amount of variance."
   ]
  },
  {
   "cell_type": "code",
   "execution_count": 44,
   "metadata": {},
   "outputs": [],
   "source": [
    "control_results = ab_test[ab_test['group'] == 'control']['converted']\n",
    "treatment_results = ab_test[ab_test['group'] == 'treatment']['converted']"
   ]
  },
  {
   "cell_type": "code",
   "execution_count": 45,
   "metadata": {
    "execution": {
     "iopub.execute_input": "2023-05-25T10:29:21.791783Z",
     "iopub.status.busy": "2023-05-25T10:29:21.791303Z",
     "iopub.status.idle": "2023-05-25T10:29:22.543876Z",
     "shell.execute_reply": "2023-05-25T10:29:22.542132Z",
     "shell.execute_reply.started": "2023-05-25T10:29:21.791752Z"
    }
   },
   "outputs": [
    {
     "data": {
      "text/plain": [
       "Ttest_relResult(statistic=0.4728361001854367, pvalue=0.6364313755734903)"
      ]
     },
     "execution_count": 45,
     "metadata": {},
     "output_type": "execute_result"
    }
   ],
   "source": [
    "ttest = stats.ttest_rel(control_results, treatment_results)\n",
    "ttest"
   ]
  },
  {
   "cell_type": "markdown",
   "metadata": {},
   "source": [
    "### Result\n",
    "Since the p-value - 0.63 - is higher than the α defined - 0,05 - we cannot reject H0. \n",
    "With that, we can conclusion that the new version of the website may not have the desired performance."
   ]
  },
  {
   "cell_type": "code",
   "execution_count": null,
   "metadata": {},
   "outputs": [],
   "source": []
  }
 ],
 "metadata": {
  "kernelspec": {
   "display_name": "Python 3",
   "language": "python",
   "name": "python3"
  },
  "language_info": {
   "codemirror_mode": {
    "name": "ipython",
    "version": 3
   },
   "file_extension": ".py",
   "mimetype": "text/x-python",
   "name": "python",
   "nbconvert_exporter": "python",
   "pygments_lexer": "ipython3",
   "version": "3.8.8"
  }
 },
 "nbformat": 4,
 "nbformat_minor": 4
}
